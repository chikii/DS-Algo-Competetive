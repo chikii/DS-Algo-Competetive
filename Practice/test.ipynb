{
 "metadata": {
  "language_info": {
   "codemirror_mode": {
    "name": "ipython",
    "version": 3
   },
   "file_extension": ".py",
   "mimetype": "text/x-python",
   "name": "python",
   "nbconvert_exporter": "python",
   "pygments_lexer": "ipython3",
   "version": "3.8.3-final"
  },
  "orig_nbformat": 2,
  "kernelspec": {
   "name": "python3",
   "display_name": "Python 3.8.3 64-bit (conda)",
   "metadata": {
    "interpreter": {
     "hash": "b3ba2566441a7c06988d0923437866b63cedc61552a5af99d1f4fb67d367b25f"
    }
   }
  }
 },
 "nbformat": 4,
 "nbformat_minor": 2,
 "cells": [
  {
   "cell_type": "code",
   "execution_count": 52,
   "metadata": {},
   "outputs": [
    {
     "output_type": "execute_result",
     "data": {
      "text/plain": [
       "0"
      ]
     },
     "metadata": {},
     "execution_count": 52
    }
   ],
   "source": [
    "def solve():\n",
    "    ans = 0\n",
    "\n",
    "    return ans\n",
    "\n",
    "for _ in range(int(input())):\n",
    "    n,m = map(int, input().split())\n",
    "    n = int(input())\n",
    "    l = list(map(int, input().split())) \n",
    "    \n",
    "    ans = 0\n",
    "    \n",
    "    solve()\n",
    "\n",
    "    print(ans)"
   ]
  }
 ]
}