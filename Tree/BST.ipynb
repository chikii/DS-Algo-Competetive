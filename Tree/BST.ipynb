{
 "metadata": {
  "language_info": {
   "codemirror_mode": {
    "name": "ipython",
    "version": 3
   },
   "file_extension": ".py",
   "mimetype": "text/x-python",
   "name": "python",
   "nbconvert_exporter": "python",
   "pygments_lexer": "ipython3",
   "version": "3.8.3-final"
  },
  "orig_nbformat": 2,
  "kernelspec": {
   "name": "python3",
   "display_name": "Python 3"
  }
 },
 "nbformat": 4,
 "nbformat_minor": 2,
 "cells": [
  {
   "cell_type": "code",
   "execution_count": null,
   "metadata": {},
   "outputs": [],
   "source": []
  },
  {
   "source": [
    "<center> <h1>Validat BST "
   ],
   "cell_type": "markdown",
   "metadata": {}
  },
  {
   "cell_type": "code",
   "execution_count": 47,
   "metadata": {},
   "outputs": [
    {
     "output_type": "stream",
     "name": "stdout",
     "text": [
      "2\n5\n8\n10\n15\n20\n"
     ]
    },
    {
     "output_type": "execute_result",
     "data": {
      "text/plain": [
       "True"
      ]
     },
     "metadata": {},
     "execution_count": 47
    }
   ],
   "source": [
    "# whether a given tree is Binary Search Tree or Not?\n",
    "def validatBST(node ,min_, max_ ):\n",
    "\n",
    "    if node == None:\n",
    "        return True\n",
    "    \n",
    "    if node.value < min_ or node.value > max_:\n",
    "        return False\n",
    "\n",
    "    left = validatBST(node.left, min_, node.value)\n",
    "    return  left and validatBST(node.right, node.value, max_)\n",
    "\n",
    "def inOrder(root): #not always true, if BST contain duplicates.\n",
    "    if root != None:\n",
    "        left = inOrder(root.left)\n",
    "        if left != None:\n",
    "            print(left)\n",
    "        print(root.value)\n",
    "        right = inOrder(root.right)\n",
    "        if right != None:\n",
    "            print(right)\n",
    "\n",
    "class node:\n",
    "    def __init__(self, value, left, right):\n",
    "        self.value = value\n",
    "        self.left = left\n",
    "        self.right = right\n",
    "\n",
    "root = node(10, None, None)\n",
    "nod1 = node(20, None, None)\n",
    "root.right = nod1\n",
    "nod2 = node(5, None, None)\n",
    "root.left = nod2\n",
    "nod3 = node(2, None, None)\n",
    "nod2.left = nod3\n",
    "nod4 = node(8, None, None)\n",
    "nod2.right = nod4\n",
    "nod5 = node(15, None, None)\n",
    "nod1.left = nod5  #comment this and \n",
    "#nod1.left = nod5 #uncomment this to make it false.\n",
    "\n",
    "inOrder(root) \n",
    "# if inorder gives sorted array means it BST. # Time-> O(N) and Space -> O(N+d) (N to store the array. and d call stack.)\n",
    "\n",
    "validatBST(root,float('-inf'), float('inf')) \n",
    "# this will give direct result.  # Time-> O(N) and Space -> O(d) where d is depth of tree.(because of call stack(memory used to store result of recurssion))\n"
   ]
  },
  {
   "cell_type": "code",
   "execution_count": 44,
   "metadata": {},
   "outputs": [
    {
     "output_type": "stream",
     "name": "stdout",
     "text": [
      "2\n5\n8\n10\n20\n15\n15 20 inf\n"
     ]
    },
    {
     "output_type": "execute_result",
     "data": {
      "text/plain": [
       "False"
      ]
     },
     "metadata": {},
     "execution_count": 44
    }
   ],
   "source": []
  },
  {
   "cell_type": "code",
   "execution_count": null,
   "metadata": {},
   "outputs": [],
   "source": []
  }
 ]
}