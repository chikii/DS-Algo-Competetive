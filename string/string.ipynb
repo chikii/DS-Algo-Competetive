{
 "metadata": {
  "language_info": {
   "codemirror_mode": {
    "name": "ipython",
    "version": 3
   },
   "file_extension": ".py",
   "mimetype": "text/x-python",
   "name": "python",
   "nbconvert_exporter": "python",
   "pygments_lexer": "ipython3",
   "version": "3.8.6-final"
  },
  "orig_nbformat": 2,
  "kernelspec": {
   "name": "python38664bit7af9e713ff0f4a1c92063a0e7f6d644a",
   "display_name": "Python 3.8.6 64-bit"
  },
  "metadata": {
   "interpreter": {
    "hash": "31f2aee4e71d21fbe5cf8b01ff0e069b9275f58929596ceb00d14d90e3e16cd6"
   }
  }
 },
 "nbformat": 4,
 "nbformat_minor": 2,
 "cells": [
  {
   "source": [
    "<center><h1> longest subsequence palindrom </h1>"
   ],
   "cell_type": "markdown",
   "metadata": {}
  },
  {
   "cell_type": "code",
   "execution_count": 1,
   "metadata": {
    "tags": []
   },
   "outputs": [
    {
     "output_type": "execute_result",
     "data": {
      "text/plain": [
       "'cdaadc'"
      ]
     },
     "metadata": {},
     "execution_count": 1
    }
   ],
   "source": [
    "# find Longest subsequence palindrom\n",
    "\n",
    "# Time  - O(N^2)\n",
    "# Space - O(1) \n",
    "def LongestPalindrom(s):\n",
    "\n",
    "    ans = [0,1]\n",
    "    # for each letter \n",
    "    #   assume it center and check left and right for palindrom\n",
    "    # two case possible -> a char can be center itself (odd length) ex - abcba\n",
    "    #                   -> there will be no character at center (even length) ec- abba \n",
    "    for i in range(len(s)):\n",
    "        \n",
    "        odd  = getPalindrom(s,i-1,i+1)\n",
    "        even = getPalindrom(s,i-1,i)\n",
    "\n",
    "        ans = max(ans,odd,even, key= lambda x:x[1]-x[0])    \n",
    "\n",
    "    return s[ans[0]:ans[1]]\n",
    "\n",
    "\n",
    "def getPalindrom(s, i, j):\n",
    "\n",
    "    while i >= 0 and j < len(s):\n",
    "        if s[i] != s[j]:\n",
    "            break    \n",
    "        i -= 1\n",
    "        j += 1\n",
    "    \n",
    "    return [i+1,j]\n",
    "\n",
    "\n",
    "# a b c d a a d c s d\n",
    "#     ^ \n",
    "s = 'abcdaadcsd'\n",
    "LongestPalindrom(s)"
   ]
  },
  {
   "source": [
    "<center><h1> Group Anagrams </h1>"
   ],
   "cell_type": "markdown",
   "metadata": {}
  },
  {
   "cell_type": "code",
   "execution_count": 2,
   "metadata": {
    "tags": []
   },
   "outputs": [
    {
     "output_type": "execute_result",
     "data": {
      "text/plain": [
       "[['oy', 'yo'], ['ta c', 'tca', 'act'], ['flpa', 'flap']]"
      ]
     },
     "metadata": {},
     "execution_count": 2
    }
   ],
   "source": [
    "# Group anagram\n",
    "\n",
    "# Time  - O(N * W * log(W))\n",
    "# N is len of list_\n",
    "# W is the longest word can occur in N\n",
    "# Space - O(N) \n",
    "def GroupAnagram(list_):\n",
    "\n",
    "    anagram = {}\n",
    "\n",
    "    for word in list_:\n",
    "        sorted_word = ''.join(sorted(word)).strip()\n",
    "        if sorted_word in anagram:\n",
    "            anagram[sorted_word].append(word)\n",
    "        else:\n",
    "            anagram[sorted_word] = [word]\n",
    "    \n",
    "    return list(anagram.values())\n",
    "\n",
    "\n",
    "a = ['oy','ta c','yo','flpa','tca','flap','act']\n",
    "\n",
    "GroupAnagram(a)"
   ]
  },
  {
   "source": [
    "<center><h1> longest substring without duplication </h1>"
   ],
   "cell_type": "markdown",
   "metadata": {}
  },
  {
   "cell_type": "code",
   "execution_count": 3,
   "metadata": {
    "tags": []
   },
   "outputs": [
    {
     "output_type": "stream",
     "name": "stdout",
     "text": [
      "\nLongest substring without duplication -----> yashn\n"
     ]
    }
   ],
   "source": [
    "# longest substring without duplication\n",
    "\n",
    "def longestSubstringWithoutDuplication(string):\n",
    "\n",
    "    seen = {}\n",
    "    start_idx = 0\n",
    "    ans = (0,1)\n",
    "\n",
    "    for i,ch in enumerate(string):\n",
    "\n",
    "        if ch in seen:\n",
    "            last_idx = seen[ch]\n",
    "            # if start is already cross last seen of char then we do not change start_idx\n",
    "            if start_idx < last_idx+1:\n",
    "                start_idx = last_idx + 1\n",
    "        \n",
    "        seen[ch] = i\n",
    "        ans = max(ans, (start_idx,i+1), key=lambda x: x[1] - x[0] + 1)\n",
    "\n",
    "        #print(seen)\n",
    "        #print('| ans :', ans,'| Star_idx :',start_idx,'| curr i :', i)\n",
    "\n",
    "    return s[ans[0]:ans[1]]\n",
    "\n",
    "s = 'yashnandwal'\n",
    "ans = longestSubstringWithoutDuplication(s)\n",
    "print('\\nLongest substring without duplication ----->',ans)"
   ]
  },
  {
   "source": [
    "<center><h1> Underscorify String </h1></center>\n",
    "<h3>\n",
    "sample test case <br>\n",
    "input  -> \"test a testtest while testing testestest\", 'test'<br>\n",
    "output -> \"_test_ a _testtest_ while _test_ing _testestest_\"<br>"
   ],
   "cell_type": "markdown",
   "metadata": {}
  },
  {
   "cell_type": "code",
   "execution_count": 22,
   "metadata": {
    "tags": []
   },
   "outputs": [
    {
     "output_type": "stream",
     "name": "stdout",
     "text": [
      "[[0, 4], [7, 15], [22, 26], [30, 40]]\n[[0, 4], [7, 15], [22, 26], [30, 40]]\n[[0, 4], [7, 15], [22, 26], [30, 40]]\n"
     ]
    },
    {
     "output_type": "execute_result",
     "data": {
      "text/plain": [
       "'_test_ a _testtest_ while _test_ing _testestest_'"
      ]
     },
     "metadata": {},
     "execution_count": 22
    }
   ],
   "source": [
    "## uderscorify string (like search in editor)\n",
    "\n",
    "# Approch\n",
    "#1. find all locations of test\n",
    "#2. collaps the overlaping and adjacent locations. (merge intervals)\n",
    "#3. underscorify the final locations.\n",
    "\n",
    "def ZFunction(s, pattern):\n",
    "    m = len(pattern)\n",
    "    s = pattern + '#' + s\n",
    "    n = len(s)\n",
    "    z = [0]*n\n",
    "    l = r = 0 \n",
    "    for i in range(1, n):\n",
    "        if i>r:\n",
    "            l = r = i\n",
    "            while r<n and s[r] == s[r-l]:\n",
    "                r += 1\n",
    "            z[i] = r-l\n",
    "            r -= 1\n",
    "        else:\n",
    "            if i+z[i-l] <= r:\n",
    "                z[i] = z[i-l]\n",
    "            else:\n",
    "                l = i\n",
    "                while r<n and s[r] == s[r-l]:\n",
    "                    r += 1\n",
    "                z[i] = r-l\n",
    "                r -= 1\n",
    "    ans = []\n",
    "    for i in range(1,n):\n",
    "        if z[i] == m:\n",
    "            ans.append([i-m-1, i-1])\n",
    "    return ans\n",
    "\n",
    "def computeLPS(s, n):\n",
    "    LPS = [0]*n\n",
    "\n",
    "    i = 0\n",
    "    j = 1\n",
    "\n",
    "    while j<n:\n",
    "        if s[i] == s[j]:\n",
    "            i += 1\n",
    "            LPS[j]= i\n",
    "            j += 1\n",
    "        else:\n",
    "            if i!=0:\n",
    "                i = LPS[i-1]\n",
    "            else:\n",
    "                LPS[j]= 0\n",
    "                j += 1\n",
    "    return LPS\n",
    "\n",
    "def KMP(string, pattern):\n",
    "    n = len(string)\n",
    "    m = len(pattern)\n",
    "    LPS = computeLPS(pattern, m)\n",
    "    \n",
    "    i = 0 # pattern\n",
    "    j = 0 # string\n",
    "    ans = []\n",
    "    while j<n:\n",
    "        if string[j] == pattern[i]:\n",
    "            i += 1\n",
    "            j += 1\n",
    "            if i == m:\n",
    "                i = LPS[i-1]\n",
    "                ans.append([j-m, j])\n",
    "        else:\n",
    "            if i!=0:\n",
    "                i = LPS[i-1]\n",
    "            else:\n",
    "                j += 1\n",
    "    return ans\n",
    "\n",
    "\n",
    "#1. find all locations of test\n",
    "def findLocation(string, sub_string):\n",
    "    locations = []\n",
    "\n",
    "    start_idx = 0\n",
    "    while start_idx < len(string):\n",
    "        \n",
    "        next_idx = string.find(sub_string, start_idx)\n",
    "        if next_idx == -1:\n",
    "            break\n",
    "\n",
    "        locations.append([next_idx,next_idx+len(sub_string)])\n",
    "        start_idx = next_idx+1\n",
    "\n",
    "    return locations\n",
    "\n",
    "#2. collaps the overlaping and adjacent locations.\n",
    "def collaps(locations): \n",
    "    if len(locations) == 0 :\n",
    "        return locations\n",
    "\n",
    "    final_locations = [locations[0]]\n",
    "    prev_loc = locations[0]\n",
    "\n",
    "    for i in range(1,len(locations)):\n",
    "        #print(final_locations)\n",
    "        curr_loc = locations[i]\n",
    "\n",
    "        if curr_loc[0] <= prev_loc[1]:\n",
    "            #final_locations[-1][1] = curr_loc[1]            \n",
    "            prev_loc[1] = curr_loc[1]\n",
    "            # because is refrencing the actual final postion. so changing it would change in final location too.\n",
    "        else:\n",
    "            final_locations.append(curr_loc)\n",
    "            prev_loc = curr_loc\n",
    "    return final_locations\n",
    "\n",
    "#3. underscorify the final locations.\n",
    "def underscorify(string, locations):\n",
    "\n",
    "    underscorify_string = []\n",
    "\n",
    "    start_idx = 0\n",
    "\n",
    "    for i in locations:\n",
    "        # before substring append all char\n",
    "        underscorify_string.append(string[start_idx:i[0]])\n",
    "\n",
    "        # wrap the substring in underscore\n",
    "        underscorify_string.append('_')\n",
    "        underscorify_string.append(string[i[0]:i[1]])\n",
    "        underscorify_string.append('_')\n",
    "\n",
    "        # change the start idx to where substring end\n",
    "        start_idx = i[1]\n",
    "    \n",
    "    return ''.join(underscorify_string)\n",
    "\n",
    "\n",
    "string, sub_string = \"test a testtest while testing testestest\", 'test'\n",
    "\n",
    "locations = collaps(findLocation(string,sub_string))\n",
    "l = KMP(string, sub_string) # using kmp\n",
    "L = ZFunction(string, sub_string) # using Z function\n",
    "print(locations)\n",
    "print(collaps(l))\n",
    "print(collaps(L))\n",
    "underscorify(string, locations)"
   ]
  },
  {
   "source": [
    "<center><h1> Pattern Match </h1></center>\n",
    "<h2>Q - Check whether the string contains the pattern or not if yes return corresponding (x,y) for given string else return -1<br>\n",
    "pattern will be in 'x' and 'y' always.</h3>\n",
    "\n",
    "<h3>Example ->\n",
    "<h4>\n",
    "pattern - xxyxxy<br>\n",
    "string  - gogopowerrangergogopowerrange\n",
    "<h4>\n",
    "Output -> \n",
    "like in above example <br>\n",
    "x is 'go' <br>\n",
    "y is 'powerranger'\n"
   ],
   "cell_type": "markdown",
   "metadata": {}
  },
  {
   "cell_type": "code",
   "execution_count": 31,
   "metadata": {},
   "outputs": [],
   "source": [
    "# pattern Match\n",
    "\n",
    "# Algorithm\n",
    "# for each length_of_x get the corresponding length_of_y and check on following the pattern with x' and y' we getting the same string or not.\n",
    "# if we get same string return x and y\n",
    "\n",
    "\n",
    "# coding\n",
    "# 1. get newPattern (always start pattern with x if not swaps x and y make switch = True)\n",
    "# 2. get count of x and y | and first index of y in pattern(no of x before_y)\n",
    "# 3. if count[y] != 0:\n",
    "#     for lenght_of_x  1 -> len(string) :\n",
    "#         lenght-Of_y = (len(string) - (len_of_X*count[x]) ) / count[y]\n",
    "#         if not valid(len_of_y): len_of_y <= 0 or len_of_y is fractional (len_of_y % 1 != 0)\n",
    "#             continue\n",
    "        \n",
    "#         idx_y_starting_in_string = no_of_x_before_y * len_of_X (means before y how many x has comes of len_x)\n",
    "\n",
    "#         x_dash = string[0:len_of_X]\n",
    "#         y_dash = string[idx_y_starting_in_string : (idx_y_starting_in_string + len_of_y)]\n",
    "\n",
    "#         potential_string = string_we_get_on_following_pattern_with_x_dash_and_y_dash = ''.join(map(lambda char: x' if char == 'x' else y', pattern))\n",
    "        \n",
    "#         if potential_string == string:\n",
    "#             return (x_dash,y_dash) if nor switch else (y_dash,x_dash)\n",
    "#     elif count[y] == 0:\n",
    "#         length_of_x = len(string) / count[x]\n",
    "#         if valid(length_of_x) : that is length_of_x is not fractional (length_of_x%1 == 0) :\n",
    "#             x_dash = string[0:length_of_x]\n",
    "#             potential_string = map(lambda char : x_dash, pattern)\n",
    "#             if potential_string == string:\n",
    "#                 return (x_dash,\"\") if not switch else (\"\",x_dash)\n",
    "#     return -1"
   ]
  },
  {
   "cell_type": "code",
   "execution_count": 11,
   "metadata": {},
   "outputs": [
    {
     "output_type": "execute_result",
     "data": {
      "text/plain": [
       "(('yash', 'nandwal'), 'String Matches with Pattern')"
      ]
     },
     "metadata": {},
     "execution_count": 11
    }
   ],
   "source": [
    "def patternMatch(pattern, string):\n",
    "    if len(pattern) > len(string):\n",
    "        return -1, 'Pattern is greater than string length'\n",
    "\n",
    "    pattern,switch = getNewPattern(pattern)\n",
    "    count, no_of_x_before_y = getCount(pattern)\n",
    "    if count['y'] != 0:\n",
    "        for length_of_x in range(1,len(string)):\n",
    "            length_of_y = (len(string) - count['x']*length_of_x)/count['y']\n",
    "            \n",
    "            if length_of_y <= 0 or length_of_y % 1 != 0: continue\n",
    "            \n",
    "            length_of_y = int(length_of_y)\n",
    "            idx_y = no_of_x_before_y * length_of_x\n",
    "\n",
    "            x_dash = string[:length_of_x]\n",
    "            y_dash = string[idx_y:(idx_y+length_of_y)]\n",
    "\n",
    "            potential_string = ''.join(map(lambda char:x_dash if char=='x' else y_dash, pattern))\n",
    "\n",
    "            if potential_string == string:\n",
    "                return (x_dash, y_dash) if not switch else (y_dash,x_dash), 'String Matches with Pattern'\n",
    "\n",
    "    else:\n",
    "        length_of_x = len(string) / count['x']\n",
    "        if length_of_x % 1 == 0:\n",
    "            length_of_x = int(length_of_x)\n",
    "            x_dash = string[:length_of_x]\n",
    "\n",
    "            potential_string = ''.join(map(lambda char:x_dash, pattern))\n",
    "\n",
    "            if potential_string == string:\n",
    "                return (x_dash,'') if not switch else ('',x_dash), 'String Matches with Pattern'\n",
    "    return -1, 'String does not Match with pattern'\n",
    "\n",
    "\n",
    "def getNewPattern(pattern):\n",
    "    if pattern[0] == 'x':\n",
    "        return list(pattern), False\n",
    "    else:\n",
    "        return list(map(lambda char:'x' if char == 'y' else 'y', pattern)), True\n",
    "\n",
    "def getCount(pattern):\n",
    "    no_of_x_before_y = None\n",
    "    count = {'x':0, 'y':0}\n",
    "\n",
    "    for i,char in enumerate(pattern):\n",
    "        if char == 'x': count['x'] += 1\n",
    "        else : \n",
    "            count['y'] += 1\n",
    "            if no_of_x_before_y == None:\n",
    "                no_of_x_before_y = i\n",
    "\n",
    "    return count, no_of_x_before_y if no_of_x_before_y is not None else 0\n",
    "\n",
    "pattern = 'xxyxxy'\n",
    "string = 'gogopowerrangergogopowerranger'\n",
    "string = 'yashyashnandwalyashnandwal'\n",
    "pattern = 'xxyxy'\n",
    "patternMatch(pattern,string)"
   ]
  }
 ]
}